{
 "cells": [
  {
   "cell_type": "code",
   "execution_count": 1,
   "id": "9363c235",
   "metadata": {},
   "outputs": [],
   "source": [
    "import torch"
   ]
  },
  {
   "cell_type": "markdown",
   "id": "dd610189",
   "metadata": {},
   "source": [
    "## Prelimaries for Linear Algebra, Calculus, Prob Theory for Deep Learning"
   ]
  },
  {
   "cell_type": "markdown",
   "id": "6135eb0d",
   "metadata": {},
   "source": [
    "## Linear Algebra"
   ]
  },
  {
   "cell_type": "code",
   "execution_count": 4,
   "id": "4be03c27",
   "metadata": {},
   "outputs": [
    {
     "data": {
      "text/plain": [
       "torch.Size([])"
      ]
     },
     "execution_count": 4,
     "metadata": {},
     "output_type": "execute_result"
    }
   ],
   "source": [
    "scalar = torch.tensor(3.0)\n",
    "scalar.shape"
   ]
  },
  {
   "cell_type": "code",
   "execution_count": 18,
   "id": "f3df5fc4",
   "metadata": {},
   "outputs": [
    {
     "data": {
      "text/plain": [
       "torch.Size([2])"
      ]
     },
     "execution_count": 18,
     "metadata": {},
     "output_type": "execute_result"
    }
   ],
   "source": [
    "vector = torch.tensor([3.0, 5.0]) # 1-d array\n",
    "vector.shape"
   ]
  },
  {
   "cell_type": "code",
   "execution_count": 6,
   "id": "a5935c15",
   "metadata": {},
   "outputs": [
    {
     "data": {
      "text/plain": [
       "torch.Size([2, 2])"
      ]
     },
     "execution_count": 6,
     "metadata": {},
     "output_type": "execute_result"
    }
   ],
   "source": [
    "matrix = torch.arange(4).reshape(2,2)\n",
    "matrix.shape"
   ]
  },
  {
   "cell_type": "code",
   "execution_count": 8,
   "id": "7dae9ca7",
   "metadata": {},
   "outputs": [
    {
     "data": {
      "text/plain": [
       "torch.Size([2, 3, 2])"
      ]
     },
     "execution_count": 8,
     "metadata": {},
     "output_type": "execute_result"
    }
   ],
   "source": [
    "my_tensor = torch.arange(12).reshape(2,3,2)\n",
    "my_tensor.shape"
   ]
  },
  {
   "cell_type": "markdown",
   "id": "1775c027",
   "metadata": {},
   "source": [
    "## Tensor Compositions\n",
    "1. Haddamard Product\n",
    "2. Dot product\n",
    "3. matrix multiplication\n",
    "4. matrix-vector product"
   ]
  },
  {
   "cell_type": "code",
   "execution_count": 9,
   "id": "3e776983",
   "metadata": {},
   "outputs": [],
   "source": [
    "A = matrix\n",
    "B = matrix.clone()"
   ]
  },
  {
   "cell_type": "code",
   "execution_count": 11,
   "id": "4ac1c5b8",
   "metadata": {},
   "outputs": [
    {
     "data": {
      "text/plain": [
       "torch.Size([2, 2])"
      ]
     },
     "execution_count": 11,
     "metadata": {},
     "output_type": "execute_result"
    }
   ],
   "source": [
    "## haddamard product - element by element\n",
    "haddamard_product = A*B\n",
    "\n",
    "haddamard_product.shape"
   ]
  },
  {
   "cell_type": "code",
   "execution_count": 13,
   "id": "b1ee0cea",
   "metadata": {},
   "outputs": [],
   "source": [
    "## dot product\n",
    "dot_product = torch.dot(vector, vector)"
   ]
  },
  {
   "cell_type": "code",
   "execution_count": 16,
   "id": "585642d4",
   "metadata": {},
   "outputs": [],
   "source": [
    "matrix_mult = torch.mm(matrix, matrix)"
   ]
  },
  {
   "cell_type": "code",
   "execution_count": 20,
   "id": "35a68f56",
   "metadata": {},
   "outputs": [
    {
     "data": {
      "text/plain": [
       "tensor(12.2474)"
      ]
     },
     "execution_count": 20,
     "metadata": {},
     "output_type": "execute_result"
    }
   ],
   "source": [
    "# norm\n",
    "my_vec = torch.tensor([3.0, 4.0, 5.0, 10.0])\n",
    "torch.norm(my_vec)"
   ]
  },
  {
   "cell_type": "code",
   "execution_count": 21,
   "id": "af05f7f1",
   "metadata": {},
   "outputs": [],
   "source": [
    "def my_norm(vector, p=2):\n",
    "    '''step 1: given a custom vector, compute the L_p norm'''\n",
    "    pass"
   ]
  },
  {
   "cell_type": "markdown",
   "id": "bd12be8d",
   "metadata": {},
   "source": [
    "## Calculus - compute a gradient"
   ]
  },
  {
   "cell_type": "code",
   "execution_count": 26,
   "id": "e9e991c6",
   "metadata": {},
   "outputs": [],
   "source": [
    "inp = torch.tensor(10.0, requires_grad=True)"
   ]
  },
  {
   "cell_type": "code",
   "execution_count": 25,
   "id": "45c1c75a",
   "metadata": {},
   "outputs": [],
   "source": [
    "def f(x):\n",
    "    val = 3*x**2 + 2\n",
    "    return val"
   ]
  },
  {
   "cell_type": "code",
   "execution_count": 27,
   "id": "ef1bd866",
   "metadata": {},
   "outputs": [],
   "source": [
    "ans = f(inp)"
   ]
  },
  {
   "cell_type": "code",
   "execution_count": 28,
   "id": "58619356",
   "metadata": {},
   "outputs": [],
   "source": [
    "ans.backward()"
   ]
  },
  {
   "cell_type": "code",
   "execution_count": 30,
   "id": "887ad0ab",
   "metadata": {},
   "outputs": [
    {
     "data": {
      "text/plain": [
       "tensor(60.)"
      ]
     },
     "execution_count": 30,
     "metadata": {},
     "output_type": "execute_result"
    }
   ],
   "source": [
    "inp.grad"
   ]
  },
  {
   "cell_type": "code",
   "execution_count": null,
   "id": "1bc9f2e1",
   "metadata": {},
   "outputs": [],
   "source": []
  }
 ],
 "metadata": {
  "kernelspec": {
   "display_name": "Python 3",
   "language": "python",
   "name": "python3"
  },
  "language_info": {
   "codemirror_mode": {
    "name": "ipython",
    "version": 3
   },
   "file_extension": ".py",
   "mimetype": "text/x-python",
   "name": "python",
   "nbconvert_exporter": "python",
   "pygments_lexer": "ipython3",
   "version": "3.10.12"
  }
 },
 "nbformat": 4,
 "nbformat_minor": 5
}
